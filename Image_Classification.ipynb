{
  "nbformat": 4,
  "nbformat_minor": 0,
  "metadata": {
    "colab": {
      "name": "Image Classification.ipynb",
      "provenance": [],
      "collapsed_sections": []
    },
    "kernelspec": {
      "name": "python3",
      "display_name": "Python 3"
    },
    "accelerator": "GPU"
  },
  "cells": [
    {
      "cell_type": "markdown",
      "metadata": {
        "id": "vcuCTMAe6-Fo"
      },
      "source": [
        "### Desription: This program classify images.\r\n",
        "\r\n",
        "Importing Libraries"
      ]
    },
    {
      "cell_type": "code",
      "metadata": {
        "id": "m8Gni_ta61Qn"
      },
      "source": [
        "import tensorflow as tf\r\n",
        "from tensorflow import keras\r\n",
        "from keras.models import Sequential \r\n",
        "from keras.layers import Dense, Flatten, Conv2D, MaxPooling2D, Dropout\r\n",
        "from tensorflow.keras import layers\r\n",
        "import keras.utils\r\n",
        "from keras.utils import to_categorical\r\n",
        "import numpy as np \r\n",
        "import matplotlib.pyplot as plt\r\n",
        "plt.style.use('fivethirtyeight')"
      ],
      "execution_count": 1,
      "outputs": []
    },
    {
      "cell_type": "markdown",
      "metadata": {
        "id": "9T3e3hct7v1z"
      },
      "source": [
        "Loading the data"
      ]
    },
    {
      "cell_type": "code",
      "metadata": {
        "id": "QQ6C7ZR-7t-b",
        "colab": {
          "base_uri": "https://localhost:8080/"
        },
        "outputId": "32e36c4b-4af3-484b-aae3-7e0b9f1c849a"
      },
      "source": [
        "from keras.datasets import cifar10\r\n",
        "(x_train, y_train), (x_test, y_test) = cifar10.load_data()"
      ],
      "execution_count": 2,
      "outputs": [
        {
          "output_type": "stream",
          "text": [
            "Downloading data from https://www.cs.toronto.edu/~kriz/cifar-10-python.tar.gz\n",
            "170500096/170498071 [==============================] - 2s 0us/step\n"
          ],
          "name": "stdout"
        }
      ]
    },
    {
      "cell_type": "markdown",
      "metadata": {
        "id": "4jW3aCpA8XJG"
      },
      "source": [
        "Looking at the data types of the variables"
      ]
    },
    {
      "cell_type": "code",
      "metadata": {
        "colab": {
          "base_uri": "https://localhost:8080/"
        },
        "id": "Kk7VrIE68L4N",
        "outputId": "cc1661c4-ca1f-4296-e7e7-97cb84dc3646"
      },
      "source": [
        "print(type(x_train))\r\n",
        "print(type(y_train))\r\n",
        "print(type(x_test))\r\n",
        "print(type(y_test))"
      ],
      "execution_count": 3,
      "outputs": [
        {
          "output_type": "stream",
          "text": [
            "<class 'numpy.ndarray'>\n",
            "<class 'numpy.ndarray'>\n",
            "<class 'numpy.ndarray'>\n",
            "<class 'numpy.ndarray'>\n"
          ],
          "name": "stdout"
        }
      ]
    },
    {
      "cell_type": "markdown",
      "metadata": {
        "id": "-oEvXwPH8omk"
      },
      "source": [
        "Getting the shape of the arrays\r\n",
        "\r\n",
        "*Train Data set*\r\n",
        "- 50000 images\r\n",
        "\r\n",
        "*Test Data set*\r\n",
        "- 10000 images\r\n",
        "\r\n",
        "*Size of images*\r\n",
        "- 32,32 size images\r\n",
        "- 3 depth"
      ]
    },
    {
      "cell_type": "code",
      "metadata": {
        "colab": {
          "base_uri": "https://localhost:8080/"
        },
        "id": "CsckvFzG8nQH",
        "outputId": "d0deafd9-42bc-445b-b593-88d016541f9f"
      },
      "source": [
        "print('x_train shape:', x_train.shape)\r\n",
        "print('y_train shape:', y_train.shape)\r\n",
        "print('x_test shape:', x_test.shape)\r\n",
        "print('y_test shape:', y_test.shape)"
      ],
      "execution_count": 4,
      "outputs": [
        {
          "output_type": "stream",
          "text": [
            "x_train shape: (50000, 32, 32, 3)\n",
            "y_train shape: (50000, 1)\n",
            "x_test shape: (10000, 32, 32, 3)\n",
            "y_test shape: (10000, 1)\n"
          ],
          "name": "stdout"
        }
      ]
    },
    {
      "cell_type": "markdown",
      "metadata": {
        "id": "83U8IKXn86yD"
      },
      "source": [
        "#### IMAGE-1\r\n",
        "- Taking the look at the first image as an array"
      ]
    },
    {
      "cell_type": "code",
      "metadata": {
        "colab": {
          "base_uri": "https://localhost:8080/"
        },
        "id": "GbP_Z6_d857f",
        "outputId": "bfa8a71f-4241-48c3-e5a3-effd057d77e5"
      },
      "source": [
        "index = 0\r\n",
        "x_train[index]"
      ],
      "execution_count": 5,
      "outputs": [
        {
          "output_type": "execute_result",
          "data": {
            "text/plain": [
              "array([[[ 59,  62,  63],\n",
              "        [ 43,  46,  45],\n",
              "        [ 50,  48,  43],\n",
              "        ...,\n",
              "        [158, 132, 108],\n",
              "        [152, 125, 102],\n",
              "        [148, 124, 103]],\n",
              "\n",
              "       [[ 16,  20,  20],\n",
              "        [  0,   0,   0],\n",
              "        [ 18,   8,   0],\n",
              "        ...,\n",
              "        [123,  88,  55],\n",
              "        [119,  83,  50],\n",
              "        [122,  87,  57]],\n",
              "\n",
              "       [[ 25,  24,  21],\n",
              "        [ 16,   7,   0],\n",
              "        [ 49,  27,   8],\n",
              "        ...,\n",
              "        [118,  84,  50],\n",
              "        [120,  84,  50],\n",
              "        [109,  73,  42]],\n",
              "\n",
              "       ...,\n",
              "\n",
              "       [[208, 170,  96],\n",
              "        [201, 153,  34],\n",
              "        [198, 161,  26],\n",
              "        ...,\n",
              "        [160, 133,  70],\n",
              "        [ 56,  31,   7],\n",
              "        [ 53,  34,  20]],\n",
              "\n",
              "       [[180, 139,  96],\n",
              "        [173, 123,  42],\n",
              "        [186, 144,  30],\n",
              "        ...,\n",
              "        [184, 148,  94],\n",
              "        [ 97,  62,  34],\n",
              "        [ 83,  53,  34]],\n",
              "\n",
              "       [[177, 144, 116],\n",
              "        [168, 129,  94],\n",
              "        [179, 142,  87],\n",
              "        ...,\n",
              "        [216, 184, 140],\n",
              "        [151, 118,  84],\n",
              "        [123,  92,  72]]], dtype=uint8)"
            ]
          },
          "metadata": {
            "tags": []
          },
          "execution_count": 5
        }
      ]
    },
    {
      "cell_type": "markdown",
      "metadata": {
        "id": "6F-Ld1o-CNc4"
      },
      "source": [
        "Showing the image as a picture"
      ]
    },
    {
      "cell_type": "code",
      "metadata": {
        "colab": {
          "base_uri": "https://localhost:8080/",
          "height": 262
        },
        "id": "hrTPLC8NCJwb",
        "outputId": "6bac30a7-83cf-43bc-8b8d-8a3e7c0a58c7"
      },
      "source": [
        "img = plt.imshow(x_train[index])"
      ],
      "execution_count": 6,
      "outputs": [
        {
          "output_type": "display_data",
          "data": {
            "image/png": "[encoded data removed]",
            "text/plain": [
              "<Figure size 432x288 with 1 Axes>"
            ]
          },
          "metadata": {
            "tags": [],
            "needs_background": "light"
          }
        }
      ]
    },
    {
      "cell_type": "markdown",
      "metadata": {
        "id": "SvO6Wr6wCYzy"
      },
      "source": [
        "Getting the image label"
      ]
    },
    {
      "cell_type": "code",
      "metadata": {
        "colab": {
          "base_uri": "https://localhost:8080/"
        },
        "id": "9cxTuQSCCVUy",
        "outputId": "d26d87bc-29ea-4556-ca4c-53db5ea0661a"
      },
      "source": [
        "print('Label of the image is:', y_train[index])"
      ],
      "execution_count": 7,
      "outputs": [
        {
          "output_type": "stream",
          "text": [
            "Label of the image is: [6]\n"
          ],
          "name": "stdout"
        }
      ]
    },
    {
      "cell_type": "markdown",
      "metadata": {
        "id": "hvbxKo0NCwZ7"
      },
      "source": [
        "Getting the image classification"
      ]
    },
    {
      "cell_type": "code",
      "metadata": {
        "id": "6kFoewveCiSQ"
      },
      "source": [
        "classification = ['airplane', 'automobile', 'bird', 'cat', 'deer', 'dog', 'frog', 'horse', 'ship', 'truck']"
      ],
      "execution_count": 8,
      "outputs": []
    },
    {
      "cell_type": "markdown",
      "metadata": {
        "id": "bsZQIeMzDETc"
      },
      "source": [
        "Printing the image class"
      ]
    },
    {
      "cell_type": "code",
      "metadata": {
        "colab": {
          "base_uri": "https://localhost:8080/"
        },
        "id": "Qi3JpV5NDDaX",
        "outputId": "e589e5fe-a839-4fb9-f6d7-a66fe121975c"
      },
      "source": [
        "print('Class of the image is:', classification[y_train[index][0]])"
      ],
      "execution_count": 9,
      "outputs": [
        {
          "output_type": "stream",
          "text": [
            "Class of the image is: frog\n"
          ],
          "name": "stdout"
        }
      ]
    },
    {
      "cell_type": "markdown",
      "metadata": {
        "id": "wpsifyoyDc7y"
      },
      "source": [
        "#### IMAGE-2\r\n",
        "- Taking the look at the second image as an array"
      ]
    },
    {
      "cell_type": "code",
      "metadata": {
        "colab": {
          "base_uri": "https://localhost:8080/"
        },
        "id": "BVX_aXmKDQhk",
        "outputId": "809bbb3e-1000-457e-89da-21102c5298be"
      },
      "source": [
        "index = 10\r\n",
        "x_train[index]"
      ],
      "execution_count": 10,
      "outputs": [
        {
          "output_type": "execute_result",
          "data": {
            "text/plain": [
              "array([[[53, 65, 53],\n",
              "        [54, 63, 52],\n",
              "        [56, 60, 50],\n",
              "        ...,\n",
              "        [47, 51, 50],\n",
              "        [41, 45, 44],\n",
              "        [24, 28, 27]],\n",
              "\n",
              "       [[46, 59, 41],\n",
              "        [53, 62, 45],\n",
              "        [54, 59, 44],\n",
              "        ...,\n",
              "        [42, 46, 45],\n",
              "        [39, 43, 42],\n",
              "        [28, 32, 31]],\n",
              "\n",
              "       [[45, 59, 38],\n",
              "        [50, 60, 41],\n",
              "        [46, 52, 34],\n",
              "        ...,\n",
              "        [38, 42, 41],\n",
              "        [36, 40, 39],\n",
              "        [29, 33, 32]],\n",
              "\n",
              "       ...,\n",
              "\n",
              "       [[71, 83, 66],\n",
              "        [74, 83, 66],\n",
              "        [80, 85, 67],\n",
              "        ...,\n",
              "        [51, 54, 33],\n",
              "        [46, 49, 34],\n",
              "        [49, 50, 41]],\n",
              "\n",
              "       [[75, 82, 67],\n",
              "        [79, 85, 69],\n",
              "        [81, 85, 67],\n",
              "        ...,\n",
              "        [61, 65, 41],\n",
              "        [64, 67, 48],\n",
              "        [48, 50, 41]],\n",
              "\n",
              "       [[85, 83, 71],\n",
              "        [85, 84, 71],\n",
              "        [86, 86, 70],\n",
              "        ...,\n",
              "        [61, 65, 39],\n",
              "        [64, 67, 46],\n",
              "        [49, 50, 41]]], dtype=uint8)"
            ]
          },
          "metadata": {
            "tags": []
          },
          "execution_count": 10
        }
      ]
    },
    {
      "cell_type": "markdown",
      "metadata": {
        "id": "cWy5_ftSDndN"
      },
      "source": [
        "Showing the image as a picture"
      ]
    },
    {
      "cell_type": "code",
      "metadata": {
        "colab": {
          "base_uri": "https://localhost:8080/",
          "height": 262
        },
        "id": "ERMEO5xHDnJC",
        "outputId": "c971261d-e5b4-4b9b-b0c5-b024eb01b2a1"
      },
      "source": [
        "img = plt.imshow(x_train[index])"
      ],
      "execution_count": 11,
      "outputs": [
        {
          "output_type": "display_data",
          "data": {
            "image/png": "[encoded data removed]",
            "text/plain": [
              "<Figure size 432x288 with 1 Axes>"
            ]
          },
          "metadata": {
            "tags": [],
            "needs_background": "light"
          }
        }
      ]
    },
    {
      "cell_type": "markdown",
      "metadata": {
        "id": "-xn12UFiDqPy"
      },
      "source": [
        "Getting the image label"
      ]
    },
    {
      "cell_type": "code",
      "metadata": {
        "colab": {
          "base_uri": "https://localhost:8080/"
        },
        "id": "duPusiUVDub2",
        "outputId": "bd369023-f354-4ea0-d357-46420aa34bed"
      },
      "source": [
        "print('Label of the image is:', y_train[index])"
      ],
      "execution_count": 12,
      "outputs": [
        {
          "output_type": "stream",
          "text": [
            "Label of the image is: [4]\n"
          ],
          "name": "stdout"
        }
      ]
    },
    {
      "cell_type": "markdown",
      "metadata": {
        "id": "WT3b4cEbD8ot"
      },
      "source": [
        "Getting the image classification"
      ]
    },
    {
      "cell_type": "code",
      "metadata": {
        "id": "Qn979csGD9PG"
      },
      "source": [
        "classification = ['airplane', 'automobile', 'bird', 'cat', 'deer', 'dog', 'frog', 'horse', 'ship', 'truck']"
      ],
      "execution_count": 13,
      "outputs": []
    },
    {
      "cell_type": "markdown",
      "metadata": {
        "id": "fJzAboyFDw8J"
      },
      "source": [
        "Printing the image class"
      ]
    },
    {
      "cell_type": "code",
      "metadata": {
        "colab": {
          "base_uri": "https://localhost:8080/"
        },
        "id": "fgz-tjmZD2Ey",
        "outputId": "85f7c4c9-261a-4575-c791-3462fa4a5b3e"
      },
      "source": [
        "print('Class of the image is:', classification[y_train[index][0]])"
      ],
      "execution_count": 14,
      "outputs": [
        {
          "output_type": "stream",
          "text": [
            "Class of the image is: deer\n"
          ],
          "name": "stdout"
        }
      ]
    },
    {
      "cell_type": "markdown",
      "metadata": {
        "id": "2CaxuBSbEOAk"
      },
      "source": [
        "Preparing the data for the neural network\r\n",
        "\r\n",
        "Converting the labels into a set of 10 numbers to input into the neural network"
      ]
    },
    {
      "cell_type": "code",
      "metadata": {
        "id": "RuuUenCbD27I"
      },
      "source": [
        "y_train_one_hot = to_categorical(y_train)\r\n",
        "y_test_one_hot = to_categorical(y_test)"
      ],
      "execution_count": 15,
      "outputs": []
    },
    {
      "cell_type": "markdown",
      "metadata": {
        "id": "7zM0bI4eFlCm"
      },
      "source": [
        "Printing the new labels"
      ]
    },
    {
      "cell_type": "code",
      "metadata": {
        "colab": {
          "base_uri": "https://localhost:8080/"
        },
        "id": "m5qGcUVAEqN7",
        "outputId": "0bd8153f-c691-46e5-c84a-5fc96b155c9c"
      },
      "source": [
        "print(y_train_one_hot)"
      ],
      "execution_count": 16,
      "outputs": [
        {
          "output_type": "stream",
          "text": [
            "[[0. 0. 0. ... 0. 0. 0.]\n",
            " [0. 0. 0. ... 0. 0. 1.]\n",
            " [0. 0. 0. ... 0. 0. 1.]\n",
            " ...\n",
            " [0. 0. 0. ... 0. 0. 1.]\n",
            " [0. 1. 0. ... 0. 0. 0.]\n",
            " [0. 1. 0. ... 0. 0. 0.]]\n"
          ],
          "name": "stdout"
        }
      ]
    },
    {
      "cell_type": "markdown",
      "metadata": {
        "id": "jPr8TvmUNBPZ"
      },
      "source": [
        "Printing the new label of the image/picture above"
      ]
    },
    {
      "cell_type": "code",
      "metadata": {
        "colab": {
          "base_uri": "https://localhost:8080/"
        },
        "id": "GNwa4hzkFq99",
        "outputId": "d4a9c3d2-ce81-4be0-c037-1e557f2873bb"
      },
      "source": [
        "print('One hot label is:', y_test_one_hot[index])"
      ],
      "execution_count": 17,
      "outputs": [
        {
          "output_type": "stream",
          "text": [
            "One hot label is: [1. 0. 0. 0. 0. 0. 0. 0. 0. 0.]\n"
          ],
          "name": "stdout"
        }
      ]
    },
    {
      "cell_type": "markdown",
      "metadata": {
        "id": "NT7sf4xXNWKM"
      },
      "source": [
        "Normalizing the pixels to be values between 0 and 1"
      ]
    },
    {
      "cell_type": "code",
      "metadata": {
        "id": "p7_tk5FXNR1h"
      },
      "source": [
        "x_train = x_train / 255\r\n",
        "x_test = x_test / 255"
      ],
      "execution_count": 18,
      "outputs": []
    },
    {
      "cell_type": "code",
      "metadata": {
        "colab": {
          "base_uri": "https://localhost:8080/"
        },
        "id": "rwn6uZMSNh2-",
        "outputId": "decc84e4-46a1-426d-d4ed-10eaf8c54f32"
      },
      "source": [
        "x_train[index]"
      ],
      "execution_count": 19,
      "outputs": [
        {
          "output_type": "execute_result",
          "data": {
            "text/plain": [
              "array([[[0.20784314, 0.25490196, 0.20784314],\n",
              "        [0.21176471, 0.24705882, 0.20392157],\n",
              "        [0.21960784, 0.23529412, 0.19607843],\n",
              "        ...,\n",
              "        [0.18431373, 0.2       , 0.19607843],\n",
              "        [0.16078431, 0.17647059, 0.17254902],\n",
              "        [0.09411765, 0.10980392, 0.10588235]],\n",
              "\n",
              "       [[0.18039216, 0.23137255, 0.16078431],\n",
              "        [0.20784314, 0.24313725, 0.17647059],\n",
              "        [0.21176471, 0.23137255, 0.17254902],\n",
              "        ...,\n",
              "        [0.16470588, 0.18039216, 0.17647059],\n",
              "        [0.15294118, 0.16862745, 0.16470588],\n",
              "        [0.10980392, 0.1254902 , 0.12156863]],\n",
              "\n",
              "       [[0.17647059, 0.23137255, 0.14901961],\n",
              "        [0.19607843, 0.23529412, 0.16078431],\n",
              "        [0.18039216, 0.20392157, 0.13333333],\n",
              "        ...,\n",
              "        [0.14901961, 0.16470588, 0.16078431],\n",
              "        [0.14117647, 0.15686275, 0.15294118],\n",
              "        [0.11372549, 0.12941176, 0.1254902 ]],\n",
              "\n",
              "       ...,\n",
              "\n",
              "       [[0.27843137, 0.3254902 , 0.25882353],\n",
              "        [0.29019608, 0.3254902 , 0.25882353],\n",
              "        [0.31372549, 0.33333333, 0.2627451 ],\n",
              "        ...,\n",
              "        [0.2       , 0.21176471, 0.12941176],\n",
              "        [0.18039216, 0.19215686, 0.13333333],\n",
              "        [0.19215686, 0.19607843, 0.16078431]],\n",
              "\n",
              "       [[0.29411765, 0.32156863, 0.2627451 ],\n",
              "        [0.30980392, 0.33333333, 0.27058824],\n",
              "        [0.31764706, 0.33333333, 0.2627451 ],\n",
              "        ...,\n",
              "        [0.23921569, 0.25490196, 0.16078431],\n",
              "        [0.25098039, 0.2627451 , 0.18823529],\n",
              "        [0.18823529, 0.19607843, 0.16078431]],\n",
              "\n",
              "       [[0.33333333, 0.3254902 , 0.27843137],\n",
              "        [0.33333333, 0.32941176, 0.27843137],\n",
              "        [0.3372549 , 0.3372549 , 0.2745098 ],\n",
              "        ...,\n",
              "        [0.23921569, 0.25490196, 0.15294118],\n",
              "        [0.25098039, 0.2627451 , 0.18039216],\n",
              "        [0.19215686, 0.19607843, 0.16078431]]])"
            ]
          },
          "metadata": {
            "tags": []
          },
          "execution_count": 19
        }
      ]
    },
    {
      "cell_type": "markdown",
      "metadata": {
        "id": "poKgqrLSNxUY"
      },
      "source": [
        "Creating the model architecture"
      ]
    },
    {
      "cell_type": "code",
      "metadata": {
        "id": "A_7ekLR5NvR5"
      },
      "source": [
        "model = Sequential()"
      ],
      "execution_count": 20,
      "outputs": []
    },
    {
      "cell_type": "markdown",
      "metadata": {
        "id": "Q6QEI7lNN73V"
      },
      "source": [
        "#### 1st Layer\r\n",
        "- Add the first layer and this first layer will be a convolution layer to extract features from the input image and then it will create 32 5 X 5 array loop convulated features or feature maps.\r\n",
        "\r\n",
        "- (5, 5): tuple"
      ]
    },
    {
      "cell_type": "code",
      "metadata": {
        "id": "jKx3sMJZN6lK"
      },
      "source": [
        "model.add(Conv2D(32, (5, 5), activation='relu', input_shape=(32, 32, 3)))"
      ],
      "execution_count": 21,
      "outputs": []
    },
    {
      "cell_type": "markdown",
      "metadata": {
        "id": "x5rISitGOxd6"
      },
      "source": [
        "#### 1st Pooling layer\r\n",
        "- Adding the Pooling layer\r\n",
        "- creating a pooling layer with a 2 by 2 pixel filter to get the max element from the feature maps."
      ]
    },
    {
      "cell_type": "code",
      "metadata": {
        "id": "MoUE2YpUOwbX"
      },
      "source": [
        "model.add(MaxPooling2D(pool_size=(2, 2)))"
      ],
      "execution_count": 22,
      "outputs": []
    },
    {
      "cell_type": "markdown",
      "metadata": {
        "id": "SGf4zvpUPnee"
      },
      "source": [
        "#### 2nd Layer\r\n",
        "- Add the second layer and this first layer will be a convolution layer."
      ]
    },
    {
      "cell_type": "code",
      "metadata": {
        "id": "AS3OTAUqPTXT"
      },
      "source": [
        "model.add(Conv2D(32, (5, 5), activation='relu'))"
      ],
      "execution_count": 23,
      "outputs": []
    },
    {
      "cell_type": "markdown",
      "metadata": {
        "id": "6TcWYuxfP4-M"
      },
      "source": [
        "#### 2nd Pooling layer\r\n",
        "- Adding the Pooling layer"
      ]
    },
    {
      "cell_type": "code",
      "metadata": {
        "id": "ALkB1J3fP4ES"
      },
      "source": [
        "model.add(MaxPooling2D(pool_size=(2, 2)))"
      ],
      "execution_count": 24,
      "outputs": []
    },
    {
      "cell_type": "markdown",
      "metadata": {
        "id": "PfS2ilZiQG4T"
      },
      "source": [
        "Adding a flattering layer\r\n",
        "- this should reduce the dimensionality to a linear array."
      ]
    },
    {
      "cell_type": "code",
      "metadata": {
        "id": "DTY72_1jQEkV"
      },
      "source": [
        "model.add(Flatten())"
      ],
      "execution_count": 25,
      "outputs": []
    },
    {
      "cell_type": "markdown",
      "metadata": {
        "id": "C-LOpQL3Qai4"
      },
      "source": [
        "Now we can take all of this data and input it into some neurons.\r\n",
        "\r\n",
        "#### 1000 neurons\r\n",
        "- Creating a layer with 1000 neurons"
      ]
    },
    {
      "cell_type": "code",
      "metadata": {
        "id": "fkiUB5XtQaDo"
      },
      "source": [
        "model.add(Dense(1000, activation='relu'))"
      ],
      "execution_count": 26,
      "outputs": []
    },
    {
      "cell_type": "markdown",
      "metadata": {
        "id": "Pp0650vdQ8cI"
      },
      "source": [
        "Adding a dropout layer and this is a dropout layer with a 50% dropout rate"
      ]
    },
    {
      "cell_type": "code",
      "metadata": {
        "id": "BECvQTBIQ7Uf"
      },
      "source": [
        "model.add(Dropout(0.5))"
      ],
      "execution_count": 27,
      "outputs": []
    },
    {
      "cell_type": "markdown",
      "metadata": {
        "id": "nRcm2jkQRXDQ"
      },
      "source": [
        "#### 500 neurons\r\n",
        "- Creating a layer with 500 neurons"
      ]
    },
    {
      "cell_type": "code",
      "metadata": {
        "id": "Cl4SeY8SROo7"
      },
      "source": [
        "model.add(Dense(500, activation='relu'))"
      ],
      "execution_count": 28,
      "outputs": []
    },
    {
      "cell_type": "markdown",
      "metadata": {
        "id": "LCunQpqKRktF"
      },
      "source": [
        "Again adding a dropout layer and this is a dropout layer with a 50% dropout rate"
      ]
    },
    {
      "cell_type": "code",
      "metadata": {
        "id": "L5Qm5gfTRcVV"
      },
      "source": [
        "model.add(Dropout(0.5))"
      ],
      "execution_count": 29,
      "outputs": []
    },
    {
      "cell_type": "markdown",
      "metadata": {
        "id": "NzN8gk-lRrAC"
      },
      "source": [
        "#### 250 neurons\r\n",
        "- Creating a layer with 250 neurons"
      ]
    },
    {
      "cell_type": "code",
      "metadata": {
        "id": "98EHjOAiRnll"
      },
      "source": [
        "model.add(Dense(250, activation='relu'))"
      ],
      "execution_count": 30,
      "outputs": []
    },
    {
      "cell_type": "markdown",
      "metadata": {
        "id": "fLS8hje3R8MJ"
      },
      "source": [
        "#### 10 neurons\r\n",
        "- Creating a layer with 10 neurons"
      ]
    },
    {
      "cell_type": "code",
      "metadata": {
        "id": "f2YS6yocR5rn"
      },
      "source": [
        "model.add(Dense(10, activation='softmax'))"
      ],
      "execution_count": 31,
      "outputs": []
    },
    {
      "cell_type": "markdown",
      "metadata": {
        "id": "alkh3CeQSFDF"
      },
      "source": [
        "Compiling the model "
      ]
    },
    {
      "cell_type": "code",
      "metadata": {
        "id": "o8uGpKqZSETk"
      },
      "source": [
        "model.compile(loss = 'categorical_crossentropy', \r\n",
        "              optimizer = 'adam', \r\n",
        "              metrics = ['accuracy'])"
      ],
      "execution_count": 32,
      "outputs": []
    },
    {
      "cell_type": "code",
      "metadata": {
        "colab": {
          "base_uri": "https://localhost:8080/"
        },
        "id": "SYznqYK3b72b",
        "outputId": "9f753d9e-4030-41d5-9855-8b8e5d101f77"
      },
      "source": [
        "y_train_one_hot.shape"
      ],
      "execution_count": 33,
      "outputs": [
        {
          "output_type": "execute_result",
          "data": {
            "text/plain": [
              "(50000, 10)"
            ]
          },
          "metadata": {
            "tags": []
          },
          "execution_count": 33
        }
      ]
    },
    {
      "cell_type": "markdown",
      "metadata": {
        "id": "-x8YE6OpSfgf"
      },
      "source": [
        "Training the model"
      ]
    },
    {
      "cell_type": "code",
      "metadata": {
        "colab": {
          "base_uri": "https://localhost:8080/"
        },
        "id": "TSHFYieSSdnc",
        "outputId": "278339a6-ef8b-4557-b3f4-d65a86bc712d"
      },
      "source": [
        "hist = model.fit(x_train, y_train_one_hot, batch_size= 256, epochs=10, validation_split = 0.2)"
      ],
      "execution_count": 35,
      "outputs": [
        {
          "output_type": "stream",
          "text": [
            "Epoch 1/10\n",
            "157/157 [==============================] - 2s 11ms/step - loss: 0.5949 - accuracy: 0.7911 - val_loss: 0.9337 - val_accuracy: 0.6957\n",
            "Epoch 2/10\n",
            "157/157 [==============================] - 1s 9ms/step - loss: 0.5359 - accuracy: 0.8113 - val_loss: 0.9387 - val_accuracy: 0.6968\n",
            "Epoch 3/10\n",
            "157/157 [==============================] - 1s 9ms/step - loss: 0.5056 - accuracy: 0.8222 - val_loss: 0.9462 - val_accuracy: 0.6978\n",
            "Epoch 4/10\n",
            "157/157 [==============================] - 1s 9ms/step - loss: 0.4769 - accuracy: 0.8319 - val_loss: 0.9738 - val_accuracy: 0.6979\n",
            "Epoch 5/10\n",
            "157/157 [==============================] - 1s 9ms/step - loss: 0.4549 - accuracy: 0.8394 - val_loss: 0.9772 - val_accuracy: 0.6946\n",
            "Epoch 6/10\n",
            "157/157 [==============================] - 1s 9ms/step - loss: 0.4301 - accuracy: 0.8487 - val_loss: 1.0009 - val_accuracy: 0.6945\n",
            "Epoch 7/10\n",
            "157/157 [==============================] - 1s 9ms/step - loss: 0.4109 - accuracy: 0.8540 - val_loss: 1.0259 - val_accuracy: 0.6963\n",
            "Epoch 8/10\n",
            "157/157 [==============================] - 1s 9ms/step - loss: 0.3920 - accuracy: 0.8629 - val_loss: 1.0180 - val_accuracy: 0.6965\n",
            "Epoch 9/10\n",
            "157/157 [==============================] - 1s 9ms/step - loss: 0.3717 - accuracy: 0.8696 - val_loss: 1.0444 - val_accuracy: 0.6966\n",
            "Epoch 10/10\n",
            "157/157 [==============================] - 1s 9ms/step - loss: 0.3537 - accuracy: 0.8731 - val_loss: 1.0542 - val_accuracy: 0.6938\n"
          ],
          "name": "stdout"
        }
      ]
    },
    {
      "cell_type": "markdown",
      "metadata": {
        "id": "vg3wDrLxUYrN"
      },
      "source": [
        "Evaluating the model using the test data set\r\n"
      ]
    },
    {
      "cell_type": "code",
      "metadata": {
        "colab": {
          "base_uri": "https://localhost:8080/"
        },
        "id": "i45ZmIoBTgLK",
        "outputId": "be9e64d1-b05a-417d-b5e3-9e128a4951e9"
      },
      "source": [
        "model.evaluate(x_test, y_test_one_hot)[1]"
      ],
      "execution_count": 36,
      "outputs": [
        {
          "output_type": "stream",
          "text": [
            "313/313 [==============================] - 1s 3ms/step - loss: 1.0449 - accuracy: 0.6954\n"
          ],
          "name": "stdout"
        },
        {
          "output_type": "execute_result",
          "data": {
            "text/plain": [
              "0.6953999996185303"
            ]
          },
          "metadata": {
            "tags": []
          },
          "execution_count": 36
        }
      ]
    },
    {
      "cell_type": "markdown",
      "metadata": {
        "id": "SohhsX3XUmBw"
      },
      "source": [
        "Visualizing the model accuracy"
      ]
    },
    {
      "cell_type": "code",
      "metadata": {
        "colab": {
          "base_uri": "https://localhost:8080/",
          "height": 296
        },
        "id": "BJ-33-t3UiFr",
        "outputId": "c3ad8e75-a825-416b-bb07-d19398304ea4"
      },
      "source": [
        "plt.plot(hist.history['accuracy'])\r\n",
        "plt.plot(hist.history['val_accuracy'])\r\n",
        "plt.title('Model Accuracy')\r\n",
        "plt.ylabel('Accuracy')\r\n",
        "plt.xlabel('Epoch')\r\n",
        "plt.legend(['Train', 'Val'], loc='upper left')\r\n",
        "plt.show()"
      ],
      "execution_count": 38,
      "outputs": [
        {
          "output_type": "display_data",
          "data": {
            "image/png": "[encoded data removed]",
            "text/plain": [
              "<Figure size 432x288 with 1 Axes>"
            ]
          },
          "metadata": {
            "tags": [],
            "needs_background": "light"
          }
        }
      ]
    },
    {
      "cell_type": "markdown",
      "metadata": {
        "id": "TwggA3NBm20E"
      },
      "source": [
        "Visulize the model loss\r\n"
      ]
    },
    {
      "cell_type": "code",
      "metadata": {
        "colab": {
          "base_uri": "https://localhost:8080/",
          "height": 296
        },
        "id": "-dobp3dmVGHE",
        "outputId": "0fd713d4-324d-41c9-b835-ab09125fbcc2"
      },
      "source": [
        " plt.plot(hist.history['loss'])\r\n",
        "plt.plot(hist.history['val_loss'])\r\n",
        "plt.title('Model Loss')\r\n",
        "plt.ylabel('Loss')\r\n",
        "plt.xlabel('Epoch')\r\n",
        "plt.legend(['Train', 'Val'], loc='upper right')\r\n",
        "plt.show()"
      ],
      "execution_count": 39,
      "outputs": [
        {
          "output_type": "display_data",
          "data": {
            "image/png": "[encoded data removed]",
            "text/plain": [
              "<Figure size 432x288 with 1 Axes>"
            ]
          },
          "metadata": {
            "tags": [],
            "needs_background": "light"
          }
        }
      ]
    },
    {
      "cell_type": "markdown",
      "metadata": {
        "id": "262831bHnMOQ"
      },
      "source": [
        "Test the model with an example\r\n",
        "- (source of image: https://www.humanesociety.org/resources/understanding-feline-language)"
      ]
    },
    {
      "cell_type": "code",
      "metadata": {
        "colab": {
          "resources": {
            "http://localhost:8080/nbextensions/google.colab/files.js": {
              "data": "Ly8gQ29weXJpZ2h0IDIwMTcgR29vZ2xlIExMQwovLwovLyBMaWNlbnNlZCB1bmRlciB0aGUgQXBhY2hlIExpY2Vuc2UsIFZlcnNpb24gMi4wICh0aGUgIkxpY2Vuc2UiKTsKLy8geW91IG1heSBub3QgdXNlIHRoaXMgZmlsZSBleGNlcHQgaW4gY29tcGxpYW5jZSB3aXRoIHRoZSBMaWNlbnNlLgovLyBZb3UgbWF5IG9idGFpbiBhIGNvcHkgb2YgdGhlIExpY2Vuc2UgYXQKLy8KLy8gICAgICBodHRwOi8vd3d3LmFwYWNoZS5vcmcvbGljZW5zZXMvTElDRU5TRS0yLjAKLy8KLy8gVW5sZXNzIHJlcXVpcmVkIGJ5IGFwcGxpY2FibGUgbGF3IG9yIGFncmVlZCB0byBpbiB3cml0aW5nLCBzb2Z0d2FyZQovLyBkaXN0cmlidXRlZCB1bmRlciB0aGUgTGljZW5zZSBpcyBkaXN0cmlidXRlZCBvbiBhbiAiQVMgSVMiIEJBU0lTLAovLyBXSVRIT1VUIFdBUlJBTlRJRVMgT1IgQ09ORElUSU9OUyBPRiBBTlkgS0lORCwgZWl0aGVyIGV4cHJlc3Mgb3IgaW1wbGllZC4KLy8gU2VlIHRoZSBMaWNlbnNlIGZvciB0aGUgc3BlY2lmaWMgbGFuZ3VhZ2UgZ292ZXJuaW5nIHBlcm1pc3Npb25zIGFuZAovLyBsaW1pdGF0aW9ucyB1bmRlciB0aGUgTGljZW5zZS4KCi8qKgogKiBAZmlsZW92ZXJ2aWV3IEhlbHBlcnMgZm9yIGdvb2dsZS5jb2xhYiBQeXRob24gbW9kdWxlLgogKi8KKGZ1bmN0aW9uKHNjb3BlKSB7CmZ1bmN0aW9uIHNwYW4odGV4dCwgc3R5bGVBdHRyaWJ1dGVzID0ge30pIHsKICBjb25zdCBlbGVtZW50ID0gZG9jdW1lbnQuY3JlYXRlRWxlbWVudCgnc3BhbicpOwogIGVsZW1lbnQudGV4dENvbnRlbnQgPSB0ZXh0OwogIGZvciAoY29uc3Qga2V5IG9mIE9iamVjdC5rZXlzKHN0eWxlQXR0cmlidXRlcykpIHsKICAgIGVsZW1lbnQuc3R5bGVba2V5XSA9IHN0eWxlQXR0cmlidXRlc1trZXldOwogIH0KICByZXR1cm4gZWxlbWVudDsKfQoKLy8gTWF4IG51bWJlciBvZiBieXRlcyB3aGljaCB3aWxsIGJlIHVwbG9hZGVkIGF0IGEgdGltZS4KY29uc3QgTUFYX1BBWUxPQURfU0laRSA9IDEwMCAqIDEwMjQ7CgpmdW5jdGlvbiBfdXBsb2FkRmlsZXMoaW5wdXRJZCwgb3V0cHV0SWQpIHsKICBjb25zdCBzdGVwcyA9IHVwbG9hZEZpbGVzU3RlcChpbnB1dElkLCBvdXRwdXRJZCk7CiAgY29uc3Qgb3V0cHV0RWxlbWVudCA9IGRvY3VtZW50LmdldEVsZW1lbnRCeUlkKG91dHB1dElkKTsKICAvLyBDYWNoZSBzdGVwcyBvbiB0aGUgb3V0cHV0RWxlbWVudCB0byBtYWtlIGl0IGF2YWlsYWJsZSBmb3IgdGhlIG5leHQgY2FsbAogIC8vIHRvIHVwbG9hZEZpbGVzQ29udGludWUgZnJvbSBQeXRob24uCiAgb3V0cHV0RWxlbWVudC5zdGVwcyA9IHN0ZXBzOwoKICByZXR1cm4gX3VwbG9hZEZpbGVzQ29udGludWUob3V0cHV0SWQpOwp9CgovLyBUaGlzIGlzIHJvdWdobHkgYW4gYXN5bmMgZ2VuZXJhdG9yIChub3Qgc3VwcG9ydGVkIGluIHRoZSBicm93c2VyIHlldCksCi8vIHdoZXJlIHRoZXJlIGFyZSBtdWx0aXBsZSBhc3luY2hyb25vdXMgc3RlcHMgYW5kIHRoZSBQeXRob24gc2lkZSBpcyBnb2luZwovLyB0byBwb2xsIGZvciBjb21wbGV0aW9uIG9mIGVhY2ggc3RlcC4KLy8gVGhpcyB1c2VzIGEgUHJvbWlzZSB0byBibG9jayB0aGUgcHl0aG9uIHNpZGUgb24gY29tcGxldGlvbiBvZiBlYWNoIHN0ZXAsCi8vIHRoZW4gcGFzc2VzIHRoZSByZXN1bHQgb2YgdGhlIHByZXZpb3VzIHN0ZXAgYXMgdGhlIGlucHV0IHRvIHRoZSBuZXh0IHN0ZXAuCmZ1bmN0aW9uIF91cGxvYWRGaWxlc0NvbnRpbnVlKG91dHB1dElkKSB7CiAgY29uc3Qgb3V0cHV0RWxlbWVudCA9IGRvY3VtZW50LmdldEVsZW1lbnRCeUlkKG91dHB1dElkKTsKICBjb25zdCBzdGVwcyA9IG91dHB1dEVsZW1lbnQuc3RlcHM7CgogIGNvbnN0IG5leHQgPSBzdGVwcy5uZXh0KG91dHB1dEVsZW1lbnQubGFzdFByb21pc2VWYWx1ZSk7CiAgcmV0dXJuIFByb21pc2UucmVzb2x2ZShuZXh0LnZhbHVlLnByb21pc2UpLnRoZW4oKHZhbHVlKSA9PiB7CiAgICAvLyBDYWNoZSB0aGUgbGFzdCBwcm9taXNlIHZhbHVlIHRvIG1ha2UgaXQgYXZhaWxhYmxlIHRvIHRoZSBuZXh0CiAgICAvLyBzdGVwIG9mIHRoZSBnZW5lcmF0b3IuCiAgICBvdXRwdXRFbGVtZW50Lmxhc3RQcm9taXNlVmFsdWUgPSB2YWx1ZTsKICAgIHJldHVybiBuZXh0LnZhbHVlLnJlc3BvbnNlOwogIH0pOwp9CgovKioKICogR2VuZXJhdG9yIGZ1bmN0aW9uIHdoaWNoIGlzIGNhbGxlZCBiZXR3ZWVuIGVhY2ggYXN5bmMgc3RlcCBvZiB0aGUgdXBsb2FkCiAqIHByb2Nlc3MuCiAqIEBwYXJhbSB7c3RyaW5nfSBpbnB1dElkIEVsZW1lbnQgSUQgb2YgdGhlIGlucHV0IGZpbGUgcGlja2VyIGVsZW1lbnQuCiAqIEBwYXJhbSB7c3RyaW5nfSBvdXRwdXRJZCBFbGVtZW50IElEIG9mIHRoZSBvdXRwdXQgZGlzcGxheS4KICogQHJldHVybiB7IUl0ZXJhYmxlPCFPYmplY3Q+fSBJdGVyYWJsZSBvZiBuZXh0IHN0ZXBzLgogKi8KZnVuY3Rpb24qIHVwbG9hZEZpbGVzU3RlcChpbnB1dElkLCBvdXRwdXRJZCkgewogIGNvbnN0IGlucHV0RWxlbWVudCA9IGRvY3VtZW50LmdldEVsZW1lbnRCeUlkKGlucHV0SWQpOwogIGlucHV0RWxlbWVudC5kaXNhYmxlZCA9IGZhbHNlOwoKICBjb25zdCBvdXRwdXRFbGVtZW50ID0gZG9jdW1lbnQuZ2V0RWxlbWVudEJ5SWQob3V0cHV0SWQpOwogIG91dHB1dEVsZW1lbnQuaW5uZXJIVE1MID0gJyc7CgogIGNvbnN0IHBpY2tlZFByb21pc2UgPSBuZXcgUHJvbWlzZSgocmVzb2x2ZSkgPT4gewogICAgaW5wdXRFbGVtZW50LmFkZEV2ZW50TGlzdGVuZXIoJ2NoYW5nZScsIChlKSA9PiB7CiAgICAgIHJlc29sdmUoZS50YXJnZXQuZmlsZXMpOwogICAgfSk7CiAgfSk7CgogIGNvbnN0IGNhbmNlbCA9IGRvY3VtZW50LmNyZWF0ZUVsZW1lbnQoJ2J1dHRvbicpOwogIGlucHV0RWxlbWVudC5wYXJlbnRFbGVtZW50LmFwcGVuZENoaWxkKGNhbmNlbCk7CiAgY2FuY2VsLnRleHRDb250ZW50ID0gJ0NhbmNlbCB1cGxvYWQnOwogIGNvbnN0IGNhbmNlbFByb21pc2UgPSBuZXcgUHJvbWlzZSgocmVzb2x2ZSkgPT4gewogICAgY2FuY2VsLm9uY2xpY2sgPSAoKSA9PiB7CiAgICAgIHJlc29sdmUobnVsbCk7CiAgICB9OwogIH0pOwoKICAvLyBXYWl0IGZvciB0aGUgdXNlciB0byBwaWNrIHRoZSBmaWxlcy4KICBjb25zdCBmaWxlcyA9IHlpZWxkIHsKICAgIHByb21pc2U6IFByb21pc2UucmFjZShbcGlja2VkUHJvbWlzZSwgY2FuY2VsUHJvbWlzZV0pLAogICAgcmVzcG9uc2U6IHsKICAgICAgYWN0aW9uOiAnc3RhcnRpbmcnLAogICAgfQogIH07CgogIGNhbmNlbC5yZW1vdmUoKTsKCiAgLy8gRGlzYWJsZSB0aGUgaW5wdXQgZWxlbWVudCBzaW5jZSBmdXJ0aGVyIHBpY2tzIGFyZSBub3QgYWxsb3dlZC4KICBpbnB1dEVsZW1lbnQuZGlzYWJsZWQgPSB0cnVlOwoKICBpZiAoIWZpbGVzKSB7CiAgICByZXR1cm4gewogICAgICByZXNwb25zZTogewogICAgICAgIGFjdGlvbjogJ2NvbXBsZXRlJywKICAgICAgfQogICAgfTsKICB9CgogIGZvciAoY29uc3QgZmlsZSBvZiBmaWxlcykgewogICAgY29uc3QgbGkgPSBkb2N1bWVudC5jcmVhdGVFbGVtZW50KCdsaScpOwogICAgbGkuYXBwZW5kKHNwYW4oZmlsZS5uYW1lLCB7Zm9udFdlaWdodDogJ2JvbGQnfSkpOwogICAgbGkuYXBwZW5kKHNwYW4oCiAgICAgICAgYCgke2ZpbGUudHlwZSB8fCAnbi9hJ30pIC0gJHtmaWxlLnNpemV9IGJ5dGVzLCBgICsKICAgICAgICBgbGFzdCBtb2RpZmllZDogJHsKICAgICAgICAgICAgZmlsZS5sYXN0TW9kaWZpZWREYXRlID8gZmlsZS5sYXN0TW9kaWZpZWREYXRlLnRvTG9jYWxlRGF0ZVN0cmluZygpIDoKICAgICAgICAgICAgICAgICAgICAgICAgICAgICAgICAgICAgJ24vYSd9IC0gYCkpOwogICAgY29uc3QgcGVyY2VudCA9IHNwYW4oJzAlIGRvbmUnKTsKICAgIGxpLmFwcGVuZENoaWxkKHBlcmNlbnQpOwoKICAgIG91dHB1dEVsZW1lbnQuYXBwZW5kQ2hpbGQobGkpOwoKICAgIGNvbnN0IGZpbGVEYXRhUHJvbWlzZSA9IG5ldyBQcm9taXNlKChyZXNvbHZlKSA9PiB7CiAgICAgIGNvbnN0IHJlYWRlciA9IG5ldyBGaWxlUmVhZGVyKCk7CiAgICAgIHJlYWRlci5vbmxvYWQgPSAoZSkgPT4gewogICAgICAgIHJlc29sdmUoZS50YXJnZXQucmVzdWx0KTsKICAgICAgfTsKICAgICAgcmVhZGVyLnJlYWRBc0FycmF5QnVmZmVyKGZpbGUpOwogICAgfSk7CiAgICAvLyBXYWl0IGZvciB0aGUgZGF0YSB0byBiZSByZWFkeS4KICAgIGxldCBmaWxlRGF0YSA9IHlpZWxkIHsKICAgICAgcHJvbWlzZTogZmlsZURhdGFQcm9taXNlLAogICAgICByZXNwb25zZTogewogICAgICAgIGFjdGlvbjogJ2NvbnRpbnVlJywKICAgICAgfQogICAgfTsKCiAgICAvLyBVc2UgYSBjaHVua2VkIHNlbmRpbmcgdG8gYXZvaWQgbWVzc2FnZSBzaXplIGxpbWl0cy4gU2VlIGIvNjIxMTU2NjAuCiAgICBsZXQgcG9zaXRpb24gPSAwOwogICAgd2hpbGUgKHBvc2l0aW9uIDwgZmlsZURhdGEuYnl0ZUxlbmd0aCkgewogICAgICBjb25zdCBsZW5ndGggPSBNYXRoLm1pbihmaWxlRGF0YS5ieXRlTGVuZ3RoIC0gcG9zaXRpb24sIE1BWF9QQVlMT0FEX1NJWkUpOwogICAgICBjb25zdCBjaHVuayA9IG5ldyBVaW50OEFycmF5KGZpbGVEYXRhLCBwb3NpdGlvbiwgbGVuZ3RoKTsKICAgICAgcG9zaXRpb24gKz0gbGVuZ3RoOwoKICAgICAgY29uc3QgYmFzZTY0ID0gYnRvYShTdHJpbmcuZnJvbUNoYXJDb2RlLmFwcGx5KG51bGwsIGNodW5rKSk7CiAgICAgIHlpZWxkIHsKICAgICAgICByZXNwb25zZTogewogICAgICAgICAgYWN0aW9uOiAnYXBwZW5kJywKICAgICAgICAgIGZpbGU6IGZpbGUubmFtZSwKICAgICAgICAgIGRhdGE6IGJhc2U2NCwKICAgICAgICB9LAogICAgICB9OwogICAgICBwZXJjZW50LnRleHRDb250ZW50ID0KICAgICAgICAgIGAke01hdGgucm91bmQoKHBvc2l0aW9uIC8gZmlsZURhdGEuYnl0ZUxlbmd0aCkgKiAxMDApfSUgZG9uZWA7CiAgICB9CiAgfQoKICAvLyBBbGwgZG9uZS4KICB5aWVsZCB7CiAgICByZXNwb25zZTogewogICAgICBhY3Rpb246ICdjb21wbGV0ZScsCiAgICB9CiAgfTsKfQoKc2NvcGUuZ29vZ2xlID0gc2NvcGUuZ29vZ2xlIHx8IHt9OwpzY29wZS5nb29nbGUuY29sYWIgPSBzY29wZS5nb29nbGUuY29sYWIgfHwge307CnNjb3BlLmdvb2dsZS5jb2xhYi5fZmlsZXMgPSB7CiAgX3VwbG9hZEZpbGVzLAogIF91cGxvYWRGaWxlc0NvbnRpbnVlLAp9Owp9KShzZWxmKTsK",
              "ok": true,
              "headers": [
                [
                  "content-type",
                  "application/javascript"
                ]
              ],
              "status": 200,
              "status_text": ""
            }
          },
          "base_uri": "https://localhost:8080/",
          "height": 73
        },
        "id": "-0sCjAdpnIDE",
        "outputId": "9e2c17d8-2d45-4859-ed85-677dfa4aac9e"
      },
      "source": [
        "from google.colab import files\r\n",
        "uploaded = files.upload()"
      ],
      "execution_count": 40,
      "outputs": [
        {
          "output_type": "display_data",
          "data": {
            "text/html": [
              "\n",
              "     <input type=\"file\" id=\"files-0b8c1b53-daa8-4ab6-b24c-6ccbbd5789bc\" name=\"files[]\" multiple disabled\n",
              "        style=\"border:none\" />\n",
              "     <output id=\"result-0b8c1b53-daa8-4ab6-b24c-6ccbbd5789bc\">\n",
              "      Upload widget is only available when the cell has been executed in the\n",
              "      current browser session. Please rerun this cell to enable.\n",
              "      </output>\n",
              "      <script src=\"/nbextensions/google.colab/files.js\"></script> "
            ],
            "text/plain": [
              "<IPython.core.display.HTML object>"
            ]
          },
          "metadata": {
            "tags": []
          }
        },
        {
          "output_type": "stream",
          "text": [
            "Saving kitten-510651.jpg to kitten-510651.jpg\n"
          ],
          "name": "stdout"
        }
      ]
    },
    {
      "cell_type": "markdown",
      "metadata": {
        "id": "WAKhfczConHH"
      },
      "source": [
        "Showing the image\r\n"
      ]
    },
    {
      "cell_type": "code",
      "metadata": {
        "colab": {
          "base_uri": "https://localhost:8080/",
          "height": 260
        },
        "id": "2UCLdRAXoJns",
        "outputId": "8a623af9-7f73-4b47-ff56-4a7982765346"
      },
      "source": [
        "new_image = plt.imread('kitten-510651.jpg')\r\n",
        "img = plt.imshow(new_image)"
      ],
      "execution_count": 42,
      "outputs": [
        {
          "output_type": "display_data",
          "data": {
            "image/png": "[encoded data removed]",
            "text/plain": [
              "<Figure size 432x288 with 1 Axes>"
            ]
          },
          "metadata": {
            "tags": [],
            "needs_background": "light"
          }
        }
      ]
    },
    {
      "cell_type": "markdown",
      "metadata": {
        "id": "l74WDfCLo5bs"
      },
      "source": [
        "Resizing the image (32 by 32 with depth 3)"
      ]
    },
    {
      "cell_type": "code",
      "metadata": {
        "colab": {
          "base_uri": "https://localhost:8080/",
          "height": 262
        },
        "id": "Zt5Ofxx6oyJk",
        "outputId": "8cd7295a-4d00-4d7c-8b32-bc27f5a75f50"
      },
      "source": [
        "from skimage.transform import resize\r\n",
        "resized_image = resize(new_image, (32,32,3))\r\n",
        "img = plt.imshow(resized_image)"
      ],
      "execution_count": 43,
      "outputs": [
        {
          "output_type": "display_data",
          "data": {
            "image/png": "[encoded data removed]",
            "text/plain": [
              "<Figure size 432x288 with 1 Axes>"
            ]
          },
          "metadata": {
            "tags": [],
            "needs_background": "light"
          }
        }
      ]
    },
    {
      "cell_type": "markdown",
      "metadata": {
        "id": "0g6U0J89pQPU"
      },
      "source": [
        "Getting the models predictions"
      ]
    },
    {
      "cell_type": "code",
      "metadata": {
        "id": "Hud9UAdSpN00"
      },
      "source": [
        "predictions = model.predict(np.array([resized_image]))"
      ],
      "execution_count": 44,
      "outputs": []
    },
    {
      "cell_type": "markdown",
      "metadata": {
        "id": "bNAKqM_tpdyZ"
      },
      "source": [
        "Showing the predictions"
      ]
    },
    {
      "cell_type": "code",
      "metadata": {
        "colab": {
          "base_uri": "https://localhost:8080/"
        },
        "id": "yoBdJoTUpb8-",
        "outputId": "c8bf251f-43a3-42cc-994d-0089f2264a51"
      },
      "source": [
        "predictions"
      ],
      "execution_count": 45,
      "outputs": [
        {
          "output_type": "execute_result",
          "data": {
            "text/plain": [
              "array([[2.8575640e-04, 9.3178947e-05, 9.2639832e-04, 8.9198029e-01,\n",
              "        2.3176020e-03, 9.1970704e-02, 1.6752978e-04, 1.0799655e-02,\n",
              "        1.7373622e-04, 1.2851284e-03]], dtype=float32)"
            ]
          },
          "metadata": {
            "tags": []
          },
          "execution_count": 45
        }
      ]
    },
    {
      "cell_type": "markdown",
      "metadata": {
        "id": "7W2Hk3uapltO"
      },
      "source": [
        "Sorting the predictions from least to greatest"
      ]
    },
    {
      "cell_type": "code",
      "metadata": {
        "id": "i26RuwbPphl1"
      },
      "source": [
        "list_index = [0,1,2,3,4,5,6,7,8,9]\r\n",
        "x = predictions\r\n",
        "\r\n",
        "for i in range(10):\r\n",
        "  for j in range(10):\r\n",
        "    if x[0][list_index[i]] > x[0][list_index[j]]:\r\n",
        "      temp = list_index[i]\r\n",
        "      list_index[i] = list_index[j]\r\n",
        "      list_index[j] = temp"
      ],
      "execution_count": 48,
      "outputs": []
    },
    {
      "cell_type": "markdown",
      "metadata": {
        "id": "IcRbBPA1qHCP"
      },
      "source": [
        "Showing the sorted labels in order\r\n",
        "- Here shows that the highest probability at index 3 then next highest probability at index 5 the next highest probability at index 7 and so on.."
      ]
    },
    {
      "cell_type": "code",
      "metadata": {
        "colab": {
          "base_uri": "https://localhost:8080/"
        },
        "id": "ifVmiqEdpt5N",
        "outputId": "4f8d8bb3-89cb-4b75-bf03-2cb676ec0488"
      },
      "source": [
        "print(list_index)"
      ],
      "execution_count": 49,
      "outputs": [
        {
          "output_type": "stream",
          "text": [
            "[3, 5, 7, 4, 9, 2, 0, 8, 6, 1]\n"
          ],
          "name": "stdout"
        }
      ]
    },
    {
      "cell_type": "markdown",
      "metadata": {
        "id": "GhUFfWM4qgvz"
      },
      "source": [
        "List to show us the classification\r\n",
        "- printing the first 5 predictions"
      ]
    },
    {
      "cell_type": "code",
      "metadata": {
        "colab": {
          "base_uri": "https://localhost:8080/"
        },
        "id": "OjFHsPpGqMNq",
        "outputId": "81e62cec-251c-4790-9ba4-8ad2ba1b9df8"
      },
      "source": [
        "for i in range(5):\r\n",
        "  print(classification[list_index[i]], ':', (predictions[0][list_index[i]] * 100, 2), '%' )"
      ],
      "execution_count": 53,
      "outputs": [
        {
          "output_type": "stream",
          "text": [
            "cat : (89.19802904129028, 2) %\n",
            "dog : (9.197070449590683, 2) %\n",
            "horse : (1.0799654759466648, 2) %\n",
            "deer : (0.23176020476967096, 2) %\n",
            "truck : (0.12851284118369222, 2) %\n"
          ],
          "name": "stdout"
        }
      ]
    },
    {
      "cell_type": "markdown",
      "metadata": {
        "id": "jiGE3zYTrNbT"
      },
      "source": [
        "So here the model prediction very well the input image is the image of the cat.\r\n",
        "\r\n",
        "# COMPLETE"
      ]
    }
  ]
}